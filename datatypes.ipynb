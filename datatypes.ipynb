{
 "cells": [
  {
   "cell_type": "code",
   "execution_count": 1,
   "id": "0b27953e-cc32-444e-8cda-2fcee9553db6",
   "metadata": {},
   "outputs": [],
   "source": [
    "age = 10"
   ]
  },
  {
   "cell_type": "code",
   "execution_count": 2,
   "id": "5d8fc2de-7756-4c01-8f8e-6ddb530dfe78",
   "metadata": {},
   "outputs": [
    {
     "name": "stdout",
     "output_type": "stream",
     "text": [
      "10\n"
     ]
    }
   ],
   "source": [
    "print (age)"
   ]
  },
  {
   "cell_type": "code",
   "execution_count": 6,
   "id": "8f2f7371-bae7-44cb-8f09-06a8338a5aac",
   "metadata": {},
   "outputs": [
    {
     "name": "stdout",
     "output_type": "stream",
     "text": [
      "name\n"
     ]
    }
   ],
   "source": [
    "print(\"name\")"
   ]
  },
  {
   "cell_type": "code",
   "execution_count": 5,
   "id": "381a00fa-5bd0-44e3-ba3b-20d4723ae82d",
   "metadata": {},
   "outputs": [],
   "source": [
    "name = \"avinash\""
   ]
  },
  {
   "cell_type": "code",
   "execution_count": 7,
   "id": "e18fe603-f5fb-47a9-8934-2dd3405a600a",
   "metadata": {},
   "outputs": [
    {
     "name": "stdout",
     "output_type": "stream",
     "text": [
      "avinash\n"
     ]
    }
   ],
   "source": [
    "print(name)"
   ]
  },
  {
   "cell_type": "code",
   "execution_count": 8,
   "id": "1253dc74-d679-4950-8cec-f42a8a9a7aa0",
   "metadata": {},
   "outputs": [
    {
     "name": "stdout",
     "output_type": "stream",
     "text": [
      "10\n"
     ]
    }
   ],
   "source": [
    "print(age)"
   ]
  },
  {
   "cell_type": "code",
   "execution_count": 9,
   "id": "3e992dd8-b7bc-4cc7-a273-f4a7378ec4e1",
   "metadata": {},
   "outputs": [
    {
     "name": "stdout",
     "output_type": "stream",
     "text": [
      "10.2\n"
     ]
    }
   ],
   "source": [
    "age = 10.20\n",
    "print(age)"
   ]
  },
  {
   "cell_type": "code",
   "execution_count": 10,
   "id": "eb531e4f-f422-43fa-8131-d933403af45a",
   "metadata": {},
   "outputs": [
    {
     "name": "stdout",
     "output_type": "stream",
     "text": [
      "10\n"
     ]
    }
   ],
   "source": [
    "age = \"10\"\n",
    "print(age)"
   ]
  },
  {
   "cell_type": "code",
   "execution_count": 11,
   "id": "d0bec24c-0a4e-43ff-b2ca-9730449f7a9b",
   "metadata": {},
   "outputs": [
    {
     "data": {
      "text/plain": [
       "str"
      ]
     },
     "execution_count": 11,
     "metadata": {},
     "output_type": "execute_result"
    }
   ],
   "source": [
    "type(age)"
   ]
  },
  {
   "cell_type": "code",
   "execution_count": 20,
   "id": "d3426d4b-00d9-48b2-93c9-ccae47a96b17",
   "metadata": {},
   "outputs": [
    {
     "name": "stdout",
     "output_type": "stream",
     "text": [
      "True\n"
     ]
    },
    {
     "data": {
      "text/plain": [
       "bool"
      ]
     },
     "execution_count": 20,
     "metadata": {},
     "output_type": "execute_result"
    }
   ],
   "source": [
    "age = \"10\"\n",
    "age = True\n",
    "print (age)\n",
    "type(age)"
   ]
  },
  {
   "cell_type": "code",
   "execution_count": 16,
   "id": "f65ab036-3004-4644-b875-c1d8e9f623ab",
   "metadata": {},
   "outputs": [
    {
     "name": "stdout",
     "output_type": "stream",
     "text": [
      "10.2\n"
     ]
    },
    {
     "data": {
      "text/plain": [
       "float"
      ]
     },
     "execution_count": 16,
     "metadata": {},
     "output_type": "execute_result"
    }
   ],
   "source": [
    "age = 10.20\n",
    "print (age)\n",
    "type(age)"
   ]
  },
  {
   "cell_type": "code",
   "execution_count": 22,
   "id": "ab15be14-b8a7-4bb3-a726-9875cd0aff23",
   "metadata": {},
   "outputs": [
    {
     "name": "stdout",
     "output_type": "stream",
     "text": [
      "30\n"
     ]
    }
   ],
   "source": [
    "a = 10\n",
    "b = 20\n",
    "c = a + b\n",
    "print (c)"
   ]
  },
  {
   "cell_type": "code",
   "execution_count": 35,
   "id": "1383a405-d3aa-4b83-bfd4-8e03e76d4980",
   "metadata": {},
   "outputs": [
    {
     "name": "stdout",
     "output_type": "stream",
     "text": [
      "30\n"
     ]
    }
   ],
   "source": [
    "a = 10\n",
    "b = 20\n",
    "c = a + 40\n",
    "print (a + b)"
   ]
  },
  {
   "cell_type": "code",
   "execution_count": 25,
   "id": "b4ee06b7-dee4-4e4a-aa63-c4677ab69d76",
   "metadata": {},
   "outputs": [
    {
     "name": "stdout",
     "output_type": "stream",
     "text": [
      "50\n"
     ]
    }
   ],
   "source": [
    "c = a + 40\n",
    "a = 10\n",
    "b = 20\n",
    "print (c)"
   ]
  },
  {
   "cell_type": "code",
   "execution_count": 29,
   "id": "d82c853f-e227-4c26-a8b4-245fba439c67",
   "metadata": {},
   "outputs": [
    {
     "name": "stdout",
     "output_type": "stream",
     "text": [
      "Avinash Baroth\n"
     ]
    }
   ],
   "source": [
    "first_name = \"Avinash\"\n",
    "Last_name = \"Baroth\"\n",
    "full_name = first_name + \" \" + Last_name\n",
    "print (full_name)"
   ]
  },
  {
   "cell_type": "code",
   "execution_count": 41,
   "id": "b976c79b-00ca-4408-bf8d-1911e14541dc",
   "metadata": {},
   "outputs": [
    {
     "name": "stdout",
     "output_type": "stream",
     "text": [
      "Avinash Baroth10\n"
     ]
    }
   ],
   "source": [
    "first_name = \"Avinash\"\n",
    "last_name = \"Baroth\"\n",
    "full_name = first_name + \" \" + Last_name\n",
    "print (full_name + str(a))"
   ]
  },
  {
   "cell_type": "code",
   "execution_count": 45,
   "id": "21cc803e-6525-40a4-ae6e-627617c28cb3",
   "metadata": {},
   "outputs": [
    {
     "name": "stdout",
     "output_type": "stream",
     "text": [
      "60\n"
     ]
    }
   ],
   "source": [
    "first_name = \"50\"\n",
    "last_name = \"10\"\n",
    "full_name = first_name + \" \" + Last_name\n",
    "print (int(first_name) + (a))"
   ]
  },
  {
   "cell_type": "code",
   "execution_count": 50,
   "id": "eca32d0b-6062-4d8c-bd4e-50f3540e4827",
   "metadata": {},
   "outputs": [
    {
     "name": "stdout",
     "output_type": "stream",
     "text": [
      "60.0\n"
     ]
    }
   ],
   "source": [
    "a = 10\n",
    "first_name = \"50\"\n",
    "last_name = \"Baroth\"\n",
    "full_name = first_name + \" \" + Last_name\n",
    "print (int(first_name) + float(a))"
   ]
  },
  {
   "cell_type": "code",
   "execution_count": 47,
   "id": "179de2b3-70be-44bc-910d-cd09647839ca",
   "metadata": {},
   "outputs": [
    {
     "data": {
      "text/plain": [
       "int"
      ]
     },
     "execution_count": 47,
     "metadata": {},
     "output_type": "execute_result"
    }
   ],
   "source": [
    "type(first_name)\n",
    "type(Last_name)\n",
    "type(a)"
   ]
  },
  {
   "cell_type": "code",
   "execution_count": null,
   "id": "6bedafb8-15a6-48a1-a220-3d82a129945a",
   "metadata": {},
   "outputs": [],
   "source": []
  },
  {
   "cell_type": "code",
   "execution_count": 34,
   "id": "936a99ce-4cea-4583-b19a-81c9e91550b9",
   "metadata": {},
   "outputs": [
    {
     "name": "stdout",
     "output_type": "stream",
     "text": [
      "<class 'str'>\n",
      "<class 'str'>\n",
      "<class 'int'>\n"
     ]
    }
   ],
   "source": [
    "print (type(first_name))\n",
    "print (type(Last_name))\n",
    "print (type(a))"
   ]
  },
  {
   "cell_type": "code",
   "execution_count": 51,
   "id": "67788941-ad56-4ced-8aa0-40a61f4ccf4e",
   "metadata": {},
   "outputs": [
    {
     "name": "stdout",
     "output_type": "stream",
     "text": [
      "Avinash Baroth\n"
     ]
    }
   ],
   "source": [
    "first_name = \"Avinash\"\n",
    "Last_name = \"Baroth\"\n",
    "full_name = first_name + \" \" + Last_name\n",
    "print (full_name)"
   ]
  },
  {
   "cell_type": "code",
   "execution_count": 52,
   "id": "36bd01c7-69d7-4ff1-ad2f-3330f783e358",
   "metadata": {},
   "outputs": [
    {
     "name": "stdout",
     "output_type": "stream",
     "text": [
      "A\n"
     ]
    }
   ],
   "source": [
    "first_name = \"Avinash\"\n",
    "print (first_name[0])"
   ]
  },
  {
   "cell_type": "code",
   "execution_count": 53,
   "id": "5fe2bb3e-aa16-4606-9e6c-5a84c0abb172",
   "metadata": {},
   "outputs": [
    {
     "name": "stdout",
     "output_type": "stream",
     "text": [
      "i\n"
     ]
    }
   ],
   "source": [
    "first_name = \"Avinash\"\n",
    "print (first_name[2])\n"
   ]
  },
  {
   "cell_type": "code",
   "execution_count": 55,
   "id": "a8590a83-e187-4bd1-98c2-ba215432c5ee",
   "metadata": {},
   "outputs": [
    {
     "name": "stdout",
     "output_type": "stream",
     "text": [
      "7\n"
     ]
    }
   ],
   "source": [
    "first_name = \"Avinash\"\n",
    "print (len(first_name))"
   ]
  },
  {
   "cell_type": "code",
   "execution_count": 59,
   "id": "c97f3838-be7a-443e-8a0f-82fb6ce8544f",
   "metadata": {},
   "outputs": [
    {
     "name": "stdout",
     "output_type": "stream",
     "text": [
      "h\n"
     ]
    }
   ],
   "source": [
    "first_name = \"Avinash\"\n",
    "print (first_name[-1])"
   ]
  },
  {
   "cell_type": "code",
   "execution_count": 60,
   "id": "ac6dadfe-87b3-4d91-919f-77bb7779f36d",
   "metadata": {},
   "outputs": [
    {
     "name": "stdout",
     "output_type": "stream",
     "text": [
      "n\n"
     ]
    }
   ],
   "source": [
    "first_name = \"Avinash\"\n",
    "print (first_name[-4])"
   ]
  },
  {
   "cell_type": "code",
   "execution_count": 62,
   "id": "7b095889-d2a1-4c07-ad81-240307ded95d",
   "metadata": {},
   "outputs": [
    {
     "name": "stdout",
     "output_type": "stream",
     "text": [
      "Avi\n"
     ]
    }
   ],
   "source": [
    "first_name = \"Avinash\"\n",
    "print (first_name[0:3])"
   ]
  },
  {
   "cell_type": "code",
   "execution_count": 64,
   "id": "99d1abe8-aed0-4035-a85c-ad876d1fe251",
   "metadata": {},
   "outputs": [
    {
     "name": "stdout",
     "output_type": "stream",
     "text": [
      "Avi\n"
     ]
    }
   ],
   "source": [
    "first_name = \"Avinash\"\n",
    "print (first_name[-7:-4])"
   ]
  },
  {
   "cell_type": "code",
   "execution_count": 65,
   "id": "43109439-2229-4e0e-bbdc-f27a7dcd6565",
   "metadata": {},
   "outputs": [
    {
     "name": "stdout",
     "output_type": "stream",
     "text": [
      "Avinash\n"
     ]
    }
   ],
   "source": [
    "first_name = \"Avinash\"\n",
    "print (first_name[-7:])"
   ]
  },
  {
   "cell_type": "code",
   "execution_count": 66,
   "id": "6b9edd35-0bd2-4405-ad57-94b057899bc8",
   "metadata": {},
   "outputs": [
    {
     "name": "stdout",
     "output_type": "stream",
     "text": [
      "Avinash\n"
     ]
    }
   ],
   "source": [
    "first_name = \"Avinash\"\n",
    "print (first_name[0:])"
   ]
  },
  {
   "cell_type": "code",
   "execution_count": 69,
   "id": "552cc841-8947-4b27-8c0a-8a7e89fee5f1",
   "metadata": {},
   "outputs": [
    {
     "data": {
      "text/plain": [
       "True"
      ]
     },
     "execution_count": 69,
     "metadata": {},
     "output_type": "execute_result"
    }
   ],
   "source": [
    "first_name = \"Avinash\"\n",
    "first_name.istitle()"
   ]
  },
  {
   "cell_type": "code",
   "execution_count": 70,
   "id": "9806c3d8-1abb-498c-ab42-0dc397b18ef7",
   "metadata": {},
   "outputs": [
    {
     "data": {
      "text/plain": [
       "False"
      ]
     },
     "execution_count": 70,
     "metadata": {},
     "output_type": "execute_result"
    }
   ],
   "source": [
    "first_name = \"avinash\"\n",
    "first_name.istitle()"
   ]
  },
  {
   "cell_type": "code",
   "execution_count": 73,
   "id": "c37c8a81-41f6-412f-adc8-e6d6f6a034a3",
   "metadata": {},
   "outputs": [
    {
     "name": "stdout",
     "output_type": "stream",
     "text": [
      "False\n",
      "True\n"
     ]
    }
   ],
   "source": [
    "first_name = \"avinash\"\n",
    "print (first_name.istitle())\n",
    "print (first_name.isalnum())"
   ]
  },
  {
   "cell_type": "code",
   "execution_count": 78,
   "id": "eb15e625-821e-47da-8c1d-f684c82fbd18",
   "metadata": {},
   "outputs": [
    {
     "name": "stdout",
     "output_type": "stream",
     "text": [
      "False\n",
      "True\n",
      "AVINASH\n"
     ]
    },
    {
     "data": {
      "text/plain": [
       "False"
      ]
     },
     "execution_count": 78,
     "metadata": {},
     "output_type": "execute_result"
    }
   ],
   "source": [
    "first_name = \"avinash\"\n",
    "print (first_name.istitle())\n",
    "print (first_name.isalnum())\n",
    "first_name.upper()\n",
    "print (first_name.upper())\n",
    "first_name.isupper()"
   ]
  },
  {
   "cell_type": "code",
   "execution_count": 20,
   "id": "f21205d6-0533-4056-a489-66269590b5b3",
   "metadata": {},
   "outputs": [
    {
     "name": "stdout",
     "output_type": "stream",
     "text": [
      "avinash\n",
      "2\n",
      "avinash baroth\n",
      "avinash baroth - 8\n",
      "11.0\n"
     ]
    }
   ],
   "source": [
    "first_name = \"avinash\"\n",
    "last_name = \"baroth\"\n",
    "skill_level = 8\n",
    "target_skill_level = 10\n",
    "rank = 1.0\n",
    "print (first_name)\n",
    "diff_skill_level = target_skill_level - skill_level\n",
    "print (diff_skill_level)\n",
    "type (diff_skill_level)\n",
    "type (first_name)\n",
    "print (first_name + \" \" + last_name)\n",
    "print (first_name + \" \" + last_name + \" - \" + str(skill_level))\n",
    "print (target_skill_level + rank)"
   ]
  },
  {
   "cell_type": "code",
   "execution_count": 16,
   "id": "2c1f667d-106e-4dc7-9068-d383856e4a52",
   "metadata": {},
   "outputs": [
    {
     "name": "stdout",
     "output_type": "stream",
     "text": [
      "Float to int: 10, type: <class 'int'>\n"
     ]
    }
   ],
   "source": [
    "float_num = 10.7\n",
    "int_num = int(float_num)\n",
    "print(f\"Float to int: {int_num}, type: {type(int_num)}\")"
   ]
  },
  {
   "cell_type": "code",
   "execution_count": 17,
   "id": "22a583c5-73bc-49e6-880d-d7d055474fdc",
   "metadata": {},
   "outputs": [
    {
     "name": "stdout",
     "output_type": "stream",
     "text": [
      "String to int: 123, type: <class 'int'>\n"
     ]
    }
   ],
   "source": [
    "str_num = \"123\"\n",
    "converted_int = int(str_num)\n",
    "print(f\"String to int: {converted_int}, type: {type(converted_int)}\")\n"
   ]
  },
  {
   "cell_type": "code",
   "execution_count": 18,
   "id": "b31736a3-cd6e-4de6-be90-aa4704b2eb3d",
   "metadata": {},
   "outputs": [
    {
     "name": "stdout",
     "output_type": "stream",
     "text": [
      "Int to float: 20.0, type: <class 'float'>\n"
     ]
    }
   ],
   "source": [
    "int_val = 20\n",
    "float_val = float(int_val)\n",
    "print(f\"Int to float: {float_val}, type: {type(float_val)}\")\n"
   ]
  },
  {
   "cell_type": "code",
   "execution_count": 22,
   "id": "8c1df433-3ea3-4748-ad3a-1f28887c2918",
   "metadata": {},
   "outputs": [
    {
     "name": "stdout",
     "output_type": "stream",
     "text": [
      "1 to bool: True\n",
      "0 to bool: False\n",
      "Empty string to bool: False\n",
      "Non-empty string to bool: True\n"
     ]
    }
   ],
   "source": [
    "truthy_val = bool(1)\n",
    "falsy_val = bool(0)\n",
    "empty_string_bool = bool(\"\")\n",
    "non_empty_string_bool = bool(\"hello\")\n",
    "print(f\"1 to bool: {truthy_val}\")\n",
    "print(f\"0 to bool: {falsy_val}\")\n",
    "print(f\"Empty string to bool: {empty_string_bool}\")\n",
    "print(f\"Non-empty string to bool: {non_empty_string_bool}\")"
   ]
  },
  {
   "cell_type": "code",
   "execution_count": null,
   "id": "cf65b2ae-f3a2-43bb-b5ac-0468561ca716",
   "metadata": {},
   "outputs": [],
   "source": []
  }
 ],
 "metadata": {
  "kernelspec": {
   "display_name": "Python [conda env:base] *",
   "language": "python",
   "name": "conda-base-py"
  },
  "language_info": {
   "codemirror_mode": {
    "name": "ipython",
    "version": 3
   },
   "file_extension": ".py",
   "mimetype": "text/x-python",
   "name": "python",
   "nbconvert_exporter": "python",
   "pygments_lexer": "ipython3",
   "version": "3.13.5"
  }
 },
 "nbformat": 4,
 "nbformat_minor": 5
}
